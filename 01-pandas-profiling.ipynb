{
 "cells": [
  {
   "cell_type": "code",
   "id": "initial_id",
   "metadata": {
    "collapsed": true,
    "ExecuteTime": {
     "end_time": "2025-04-13T11:36:12.330080Z",
     "start_time": "2025-04-13T11:36:07.472167Z"
    }
   },
   "source": [
    "import pandas as pd\n",
    "import numpy as np"
   ],
   "outputs": [],
   "execution_count": 1
  },
  {
   "metadata": {
    "ExecuteTime": {
     "end_time": "2025-04-13T11:37:52.365068Z",
     "start_time": "2025-04-13T11:37:52.321193Z"
    }
   },
   "cell_type": "code",
   "source": "df = pd.read_csv('train.csv')",
   "id": "9e483fa0dea520f7",
   "outputs": [],
   "execution_count": 2
  },
  {
   "metadata": {
    "ExecuteTime": {
     "end_time": "2025-04-13T11:38:59.657994Z",
     "start_time": "2025-04-13T11:38:59.590405Z"
    }
   },
   "cell_type": "code",
   "source": "df.head()",
   "id": "46835184e1dd8f6e",
   "outputs": [
    {
     "data": {
      "text/plain": [
       "   PassengerId  Survived  Pclass  \\\n",
       "0            1         0       3   \n",
       "1            2         1       1   \n",
       "2            3         1       3   \n",
       "3            4         1       1   \n",
       "4            5         0       3   \n",
       "\n",
       "                                                Name     Sex   Age  SibSp  \\\n",
       "0                            Braund, Mr. Owen Harris    male  22.0      1   \n",
       "1  Cumings, Mrs. John Bradley (Florence Briggs Th...  female  38.0      1   \n",
       "2                             Heikkinen, Miss. Laina  female  26.0      0   \n",
       "3       Futrelle, Mrs. Jacques Heath (Lily May Peel)  female  35.0      1   \n",
       "4                           Allen, Mr. William Henry    male  35.0      0   \n",
       "\n",
       "   Parch            Ticket     Fare Cabin Embarked  \n",
       "0      0         A/5 21171   7.2500   NaN        S  \n",
       "1      0          PC 17599  71.2833   C85        C  \n",
       "2      0  STON/O2. 3101282   7.9250   NaN        S  \n",
       "3      0            113803  53.1000  C123        S  \n",
       "4      0            373450   8.0500   NaN        S  "
      ],
      "text/html": [
       "<div>\n",
       "<style scoped>\n",
       "    .dataframe tbody tr th:only-of-type {\n",
       "        vertical-align: middle;\n",
       "    }\n",
       "\n",
       "    .dataframe tbody tr th {\n",
       "        vertical-align: top;\n",
       "    }\n",
       "\n",
       "    .dataframe thead th {\n",
       "        text-align: right;\n",
       "    }\n",
       "</style>\n",
       "<table border=\"1\" class=\"dataframe\">\n",
       "  <thead>\n",
       "    <tr style=\"text-align: right;\">\n",
       "      <th></th>\n",
       "      <th>PassengerId</th>\n",
       "      <th>Survived</th>\n",
       "      <th>Pclass</th>\n",
       "      <th>Name</th>\n",
       "      <th>Sex</th>\n",
       "      <th>Age</th>\n",
       "      <th>SibSp</th>\n",
       "      <th>Parch</th>\n",
       "      <th>Ticket</th>\n",
       "      <th>Fare</th>\n",
       "      <th>Cabin</th>\n",
       "      <th>Embarked</th>\n",
       "    </tr>\n",
       "  </thead>\n",
       "  <tbody>\n",
       "    <tr>\n",
       "      <th>0</th>\n",
       "      <td>1</td>\n",
       "      <td>0</td>\n",
       "      <td>3</td>\n",
       "      <td>Braund, Mr. Owen Harris</td>\n",
       "      <td>male</td>\n",
       "      <td>22.0</td>\n",
       "      <td>1</td>\n",
       "      <td>0</td>\n",
       "      <td>A/5 21171</td>\n",
       "      <td>7.2500</td>\n",
       "      <td>NaN</td>\n",
       "      <td>S</td>\n",
       "    </tr>\n",
       "    <tr>\n",
       "      <th>1</th>\n",
       "      <td>2</td>\n",
       "      <td>1</td>\n",
       "      <td>1</td>\n",
       "      <td>Cumings, Mrs. John Bradley (Florence Briggs Th...</td>\n",
       "      <td>female</td>\n",
       "      <td>38.0</td>\n",
       "      <td>1</td>\n",
       "      <td>0</td>\n",
       "      <td>PC 17599</td>\n",
       "      <td>71.2833</td>\n",
       "      <td>C85</td>\n",
       "      <td>C</td>\n",
       "    </tr>\n",
       "    <tr>\n",
       "      <th>2</th>\n",
       "      <td>3</td>\n",
       "      <td>1</td>\n",
       "      <td>3</td>\n",
       "      <td>Heikkinen, Miss. Laina</td>\n",
       "      <td>female</td>\n",
       "      <td>26.0</td>\n",
       "      <td>0</td>\n",
       "      <td>0</td>\n",
       "      <td>STON/O2. 3101282</td>\n",
       "      <td>7.9250</td>\n",
       "      <td>NaN</td>\n",
       "      <td>S</td>\n",
       "    </tr>\n",
       "    <tr>\n",
       "      <th>3</th>\n",
       "      <td>4</td>\n",
       "      <td>1</td>\n",
       "      <td>1</td>\n",
       "      <td>Futrelle, Mrs. Jacques Heath (Lily May Peel)</td>\n",
       "      <td>female</td>\n",
       "      <td>35.0</td>\n",
       "      <td>1</td>\n",
       "      <td>0</td>\n",
       "      <td>113803</td>\n",
       "      <td>53.1000</td>\n",
       "      <td>C123</td>\n",
       "      <td>S</td>\n",
       "    </tr>\n",
       "    <tr>\n",
       "      <th>4</th>\n",
       "      <td>5</td>\n",
       "      <td>0</td>\n",
       "      <td>3</td>\n",
       "      <td>Allen, Mr. William Henry</td>\n",
       "      <td>male</td>\n",
       "      <td>35.0</td>\n",
       "      <td>0</td>\n",
       "      <td>0</td>\n",
       "      <td>373450</td>\n",
       "      <td>8.0500</td>\n",
       "      <td>NaN</td>\n",
       "      <td>S</td>\n",
       "    </tr>\n",
       "  </tbody>\n",
       "</table>\n",
       "</div>"
      ]
     },
     "execution_count": 3,
     "metadata": {},
     "output_type": "execute_result"
    }
   ],
   "execution_count": 3
  },
  {
   "metadata": {
    "ExecuteTime": {
     "end_time": "2025-04-13T11:44:50.973102Z",
     "start_time": "2025-04-13T11:44:46.573362Z"
    }
   },
   "cell_type": "code",
   "source": "!pip install pandas-profiling",
   "id": "fd2ae58cd4dcc9a1",
   "outputs": [
    {
     "name": "stdout",
     "output_type": "stream",
     "text": [
      "Requirement already satisfied: pandas-profiling in c:\\users\\bala ji\\appdata\\roaming\\python\\python312\\site-packages (3.2.0)\n",
      "Requirement already satisfied: joblib~=1.1.0 in c:\\users\\bala ji\\appdata\\local\\programs\\python\\python312\\lib\\site-packages (from pandas-profiling) (1.1.1)\n",
      "Requirement already satisfied: scipy>=1.4.1 in c:\\users\\bala ji\\appdata\\local\\programs\\python\\python312\\lib\\site-packages (from pandas-profiling) (1.14.1)\n",
      "Requirement already satisfied: pandas!=1.0.0,!=1.0.1,!=1.0.2,!=1.1.0,>=0.25.3 in c:\\users\\bala ji\\appdata\\local\\programs\\python\\python312\\lib\\site-packages (from pandas-profiling) (2.2.3)\n",
      "Requirement already satisfied: matplotlib>=3.2.0 in c:\\users\\bala ji\\appdata\\local\\programs\\python\\python312\\lib\\site-packages (from pandas-profiling) (3.9.2)\n",
      "Requirement already satisfied: pydantic>=1.8.1 in c:\\users\\bala ji\\appdata\\local\\programs\\python\\python312\\lib\\site-packages (from pandas-profiling) (2.11.3)\n",
      "Requirement already satisfied: PyYAML>=5.0.0 in c:\\users\\bala ji\\appdata\\local\\programs\\python\\python312\\lib\\site-packages (from pandas-profiling) (6.0.2)\n",
      "Requirement already satisfied: jinja2>=2.11.1 in c:\\users\\bala ji\\appdata\\local\\programs\\python\\python312\\lib\\site-packages (from pandas-profiling) (3.1.4)\n",
      "Requirement already satisfied: markupsafe~=2.1.1 in c:\\users\\bala ji\\appdata\\local\\programs\\python\\python312\\lib\\site-packages (from pandas-profiling) (2.1.5)\n",
      "Requirement already satisfied: visions==0.7.4 in c:\\users\\bala ji\\appdata\\roaming\\python\\python312\\site-packages (from visions[type_image_path]==0.7.4->pandas-profiling) (0.7.4)\n",
      "Requirement already satisfied: numpy>=1.16.0 in c:\\users\\bala ji\\appdata\\local\\programs\\python\\python312\\lib\\site-packages (from pandas-profiling) (2.1.2)\n",
      "Requirement already satisfied: htmlmin>=0.1.12 in c:\\users\\bala ji\\appdata\\roaming\\python\\python312\\site-packages (from pandas-profiling) (0.1.12)\n",
      "Requirement already satisfied: missingno>=0.4.2 in c:\\users\\bala ji\\appdata\\roaming\\python\\python312\\site-packages (from pandas-profiling) (0.5.2)\n",
      "Requirement already satisfied: phik>=0.11.1 in c:\\users\\bala ji\\appdata\\roaming\\python\\python312\\site-packages (from pandas-profiling) (0.12.4)\n",
      "Requirement already satisfied: tangled-up-in-unicode==0.2.0 in c:\\users\\bala ji\\appdata\\roaming\\python\\python312\\site-packages (from pandas-profiling) (0.2.0)\n",
      "Requirement already satisfied: requests>=2.24.0 in c:\\users\\bala ji\\appdata\\local\\programs\\python\\python312\\lib\\site-packages (from pandas-profiling) (2.32.3)\n",
      "Requirement already satisfied: tqdm>=4.48.2 in c:\\users\\bala ji\\appdata\\local\\programs\\python\\python312\\lib\\site-packages (from pandas-profiling) (4.67.1)\n",
      "Requirement already satisfied: seaborn>=0.10.1 in c:\\users\\bala ji\\appdata\\local\\programs\\python\\python312\\lib\\site-packages (from pandas-profiling) (0.13.2)\n",
      "Requirement already satisfied: multimethod>=1.4 in c:\\users\\bala ji\\appdata\\roaming\\python\\python312\\site-packages (from pandas-profiling) (1.12)\n",
      "Requirement already satisfied: attrs>=19.3.0 in c:\\users\\bala ji\\appdata\\local\\programs\\python\\python312\\lib\\site-packages (from visions==0.7.4->visions[type_image_path]==0.7.4->pandas-profiling) (24.2.0)\n",
      "Requirement already satisfied: networkx>=2.4 in c:\\users\\bala ji\\appdata\\local\\programs\\python\\python312\\lib\\site-packages (from visions==0.7.4->visions[type_image_path]==0.7.4->pandas-profiling) (3.4.2)\n",
      "Requirement already satisfied: imagehash in c:\\users\\bala ji\\appdata\\roaming\\python\\python312\\site-packages (from visions[type_image_path]==0.7.4->pandas-profiling) (4.3.1)\n",
      "Requirement already satisfied: Pillow in c:\\users\\bala ji\\appdata\\local\\programs\\python\\python312\\lib\\site-packages (from visions[type_image_path]==0.7.4->pandas-profiling) (11.0.0)\n",
      "Requirement already satisfied: contourpy>=1.0.1 in c:\\users\\bala ji\\appdata\\local\\programs\\python\\python312\\lib\\site-packages (from matplotlib>=3.2.0->pandas-profiling) (1.3.0)\n",
      "Requirement already satisfied: cycler>=0.10 in c:\\users\\bala ji\\appdata\\local\\programs\\python\\python312\\lib\\site-packages (from matplotlib>=3.2.0->pandas-profiling) (0.12.1)\n",
      "Requirement already satisfied: fonttools>=4.22.0 in c:\\users\\bala ji\\appdata\\local\\programs\\python\\python312\\lib\\site-packages (from matplotlib>=3.2.0->pandas-profiling) (4.54.1)\n",
      "Requirement already satisfied: kiwisolver>=1.3.1 in c:\\users\\bala ji\\appdata\\local\\programs\\python\\python312\\lib\\site-packages (from matplotlib>=3.2.0->pandas-profiling) (1.4.7)\n",
      "Requirement already satisfied: packaging>=20.0 in c:\\users\\bala ji\\appdata\\local\\programs\\python\\python312\\lib\\site-packages (from matplotlib>=3.2.0->pandas-profiling) (24.1)\n",
      "Requirement already satisfied: pyparsing>=2.3.1 in c:\\users\\bala ji\\appdata\\local\\programs\\python\\python312\\lib\\site-packages (from matplotlib>=3.2.0->pandas-profiling) (3.2.0)\n",
      "Requirement already satisfied: python-dateutil>=2.7 in c:\\users\\bala ji\\appdata\\local\\programs\\python\\python312\\lib\\site-packages (from matplotlib>=3.2.0->pandas-profiling) (2.9.0.post0)\n",
      "Requirement already satisfied: pytz>=2020.1 in c:\\users\\bala ji\\appdata\\local\\programs\\python\\python312\\lib\\site-packages (from pandas!=1.0.0,!=1.0.1,!=1.0.2,!=1.1.0,>=0.25.3->pandas-profiling) (2024.2)\n",
      "Requirement already satisfied: tzdata>=2022.7 in c:\\users\\bala ji\\appdata\\local\\programs\\python\\python312\\lib\\site-packages (from pandas!=1.0.0,!=1.0.1,!=1.0.2,!=1.1.0,>=0.25.3->pandas-profiling) (2024.2)\n",
      "Requirement already satisfied: annotated-types>=0.6.0 in c:\\users\\bala ji\\appdata\\local\\programs\\python\\python312\\lib\\site-packages (from pydantic>=1.8.1->pandas-profiling) (0.7.0)\n",
      "Requirement already satisfied: pydantic-core==2.33.1 in c:\\users\\bala ji\\appdata\\local\\programs\\python\\python312\\lib\\site-packages (from pydantic>=1.8.1->pandas-profiling) (2.33.1)\n",
      "Requirement already satisfied: typing-extensions>=4.12.2 in c:\\users\\bala ji\\appdata\\local\\programs\\python\\python312\\lib\\site-packages (from pydantic>=1.8.1->pandas-profiling) (4.13.2)\n",
      "Requirement already satisfied: typing-inspection>=0.4.0 in c:\\users\\bala ji\\appdata\\local\\programs\\python\\python312\\lib\\site-packages (from pydantic>=1.8.1->pandas-profiling) (0.4.0)\n",
      "Requirement already satisfied: charset-normalizer<4,>=2 in c:\\users\\bala ji\\appdata\\local\\programs\\python\\python312\\lib\\site-packages (from requests>=2.24.0->pandas-profiling) (3.4.0)\n",
      "Requirement already satisfied: idna<4,>=2.5 in c:\\users\\bala ji\\appdata\\local\\programs\\python\\python312\\lib\\site-packages (from requests>=2.24.0->pandas-profiling) (3.10)\n",
      "Requirement already satisfied: urllib3<3,>=1.21.1 in c:\\users\\bala ji\\appdata\\local\\programs\\python\\python312\\lib\\site-packages (from requests>=2.24.0->pandas-profiling) (2.2.3)\n",
      "Requirement already satisfied: certifi>=2017.4.17 in c:\\users\\bala ji\\appdata\\local\\programs\\python\\python312\\lib\\site-packages (from requests>=2.24.0->pandas-profiling) (2024.8.30)\n",
      "Requirement already satisfied: colorama in c:\\users\\bala ji\\appdata\\local\\programs\\python\\python312\\lib\\site-packages (from tqdm>=4.48.2->pandas-profiling) (0.4.6)\n",
      "Requirement already satisfied: six>=1.5 in c:\\users\\bala ji\\appdata\\local\\programs\\python\\python312\\lib\\site-packages (from python-dateutil>=2.7->matplotlib>=3.2.0->pandas-profiling) (1.16.0)\n",
      "Requirement already satisfied: PyWavelets in c:\\users\\bala ji\\appdata\\local\\programs\\python\\python312\\lib\\site-packages (from imagehash->visions[type_image_path]==0.7.4->pandas-profiling) (1.8.0)\n"
     ]
    }
   ],
   "execution_count": 7
  },
  {
   "metadata": {
    "ExecuteTime": {
     "end_time": "2025-04-13T11:46:36.765519Z",
     "start_time": "2025-04-13T11:46:36.518353Z"
    }
   },
   "cell_type": "code",
   "source": [
    "from pandas_profiling import ProfileReport\n",
    "prof = ProfileReport(df)\n",
    "prof.to_file(output_file='report1.html')"
   ],
   "id": "2f26b1b2daf7f501",
   "outputs": [
    {
     "ename": "PydanticImportError",
     "evalue": "`BaseSettings` has been moved to the `pydantic-settings` package. See https://docs.pydantic.dev/2.11/migration/#basesettings-has-moved-to-pydantic-settings for more details.\n\nFor further information visit https://errors.pydantic.dev/2.11/u/import-error",
     "output_type": "error",
     "traceback": [
      "\u001B[1;31m---------------------------------------------------------------------------\u001B[0m",
      "\u001B[1;31mPydanticImportError\u001B[0m                       Traceback (most recent call last)",
      "Cell \u001B[1;32mIn[11], line 1\u001B[0m\n\u001B[1;32m----> 1\u001B[0m \u001B[38;5;28;01mfrom\u001B[39;00m \u001B[38;5;21;01mpandas_profiling\u001B[39;00m \u001B[38;5;28;01mimport\u001B[39;00m ProfileReport\n\u001B[0;32m      2\u001B[0m prof \u001B[38;5;241m=\u001B[39m ProfileReport(df)\n\u001B[0;32m      3\u001B[0m prof\u001B[38;5;241m.\u001B[39mto_file(output_file\u001B[38;5;241m=\u001B[39m\u001B[38;5;124m'\u001B[39m\u001B[38;5;124mreport1.html\u001B[39m\u001B[38;5;124m'\u001B[39m)\n",
      "File \u001B[1;32m~\\AppData\\Roaming\\Python\\Python312\\site-packages\\pandas_profiling\\__init__.py:6\u001B[0m\n\u001B[0;32m      1\u001B[0m \u001B[38;5;124;03m\"\"\"Main module of pandas-profiling.\u001B[39;00m\n\u001B[0;32m      2\u001B[0m \n\u001B[0;32m      3\u001B[0m \u001B[38;5;124;03m.. include:: ../../README.md\u001B[39;00m\n\u001B[0;32m      4\u001B[0m \u001B[38;5;124;03m\"\"\"\u001B[39;00m\n\u001B[1;32m----> 6\u001B[0m \u001B[38;5;28;01mfrom\u001B[39;00m \u001B[38;5;21;01mpandas_profiling\u001B[39;00m\u001B[38;5;21;01m.\u001B[39;00m\u001B[38;5;21;01mcontroller\u001B[39;00m \u001B[38;5;28;01mimport\u001B[39;00m pandas_decorator\n\u001B[0;32m      7\u001B[0m \u001B[38;5;28;01mfrom\u001B[39;00m \u001B[38;5;21;01mpandas_profiling\u001B[39;00m\u001B[38;5;21;01m.\u001B[39;00m\u001B[38;5;21;01mprofile_report\u001B[39;00m \u001B[38;5;28;01mimport\u001B[39;00m ProfileReport\n\u001B[0;32m      8\u001B[0m \u001B[38;5;28;01mfrom\u001B[39;00m \u001B[38;5;21;01mpandas_profiling\u001B[39;00m\u001B[38;5;21;01m.\u001B[39;00m\u001B[38;5;21;01mversion\u001B[39;00m \u001B[38;5;28;01mimport\u001B[39;00m __version__\n",
      "File \u001B[1;32m~\\AppData\\Roaming\\Python\\Python312\\site-packages\\pandas_profiling\\controller\\pandas_decorator.py:4\u001B[0m\n\u001B[0;32m      1\u001B[0m \u001B[38;5;124;03m\"\"\"This file add the decorator on the DataFrame object.\"\"\"\u001B[39;00m\n\u001B[0;32m      2\u001B[0m \u001B[38;5;28;01mfrom\u001B[39;00m \u001B[38;5;21;01mpandas\u001B[39;00m \u001B[38;5;28;01mimport\u001B[39;00m DataFrame\n\u001B[1;32m----> 4\u001B[0m \u001B[38;5;28;01mfrom\u001B[39;00m \u001B[38;5;21;01mpandas_profiling\u001B[39;00m\u001B[38;5;21;01m.\u001B[39;00m\u001B[38;5;21;01mprofile_report\u001B[39;00m \u001B[38;5;28;01mimport\u001B[39;00m ProfileReport\n\u001B[0;32m      7\u001B[0m \u001B[38;5;28;01mdef\u001B[39;00m \u001B[38;5;21mprofile_report\u001B[39m(df: DataFrame, \u001B[38;5;241m*\u001B[39m\u001B[38;5;241m*\u001B[39mkwargs) \u001B[38;5;241m-\u001B[39m\u001B[38;5;241m>\u001B[39m ProfileReport:\n\u001B[0;32m      8\u001B[0m \u001B[38;5;250m    \u001B[39m\u001B[38;5;124;03m\"\"\"Profile a DataFrame.\u001B[39;00m\n\u001B[0;32m      9\u001B[0m \n\u001B[0;32m     10\u001B[0m \u001B[38;5;124;03m    Args:\u001B[39;00m\n\u001B[1;32m   (...)\u001B[0m\n\u001B[0;32m     15\u001B[0m \u001B[38;5;124;03m        A ProfileReport of the DataFrame.\u001B[39;00m\n\u001B[0;32m     16\u001B[0m \u001B[38;5;124;03m    \"\"\"\u001B[39;00m\n",
      "File \u001B[1;32m~\\AppData\\Roaming\\Python\\Python312\\site-packages\\pandas_profiling\\profile_report.py:13\u001B[0m\n\u001B[0;32m     10\u001B[0m \u001B[38;5;28;01mfrom\u001B[39;00m \u001B[38;5;21;01mtqdm\u001B[39;00m\u001B[38;5;21;01m.\u001B[39;00m\u001B[38;5;21;01mauto\u001B[39;00m \u001B[38;5;28;01mimport\u001B[39;00m tqdm\n\u001B[0;32m     11\u001B[0m \u001B[38;5;28;01mfrom\u001B[39;00m \u001B[38;5;21;01mvisions\u001B[39;00m \u001B[38;5;28;01mimport\u001B[39;00m VisionsTypeset\n\u001B[1;32m---> 13\u001B[0m \u001B[38;5;28;01mfrom\u001B[39;00m \u001B[38;5;21;01mpandas_profiling\u001B[39;00m\u001B[38;5;21;01m.\u001B[39;00m\u001B[38;5;21;01mconfig\u001B[39;00m \u001B[38;5;28;01mimport\u001B[39;00m Config, Settings\n\u001B[0;32m     14\u001B[0m \u001B[38;5;28;01mfrom\u001B[39;00m \u001B[38;5;21;01mpandas_profiling\u001B[39;00m\u001B[38;5;21;01m.\u001B[39;00m\u001B[38;5;21;01mexpectations_report\u001B[39;00m \u001B[38;5;28;01mimport\u001B[39;00m ExpectationsReport\n\u001B[0;32m     15\u001B[0m \u001B[38;5;28;01mfrom\u001B[39;00m \u001B[38;5;21;01mpandas_profiling\u001B[39;00m\u001B[38;5;21;01m.\u001B[39;00m\u001B[38;5;21;01mmodel\u001B[39;00m\u001B[38;5;21;01m.\u001B[39;00m\u001B[38;5;21;01malerts\u001B[39;00m \u001B[38;5;28;01mimport\u001B[39;00m AlertType\n",
      "File \u001B[1;32m~\\AppData\\Roaming\\Python\\Python312\\site-packages\\pandas_profiling\\config.py:5\u001B[0m\n\u001B[0;32m      2\u001B[0m \u001B[38;5;28;01mfrom\u001B[39;00m \u001B[38;5;21;01menum\u001B[39;00m \u001B[38;5;28;01mimport\u001B[39;00m Enum\n\u001B[0;32m      3\u001B[0m \u001B[38;5;28;01mfrom\u001B[39;00m \u001B[38;5;21;01mtyping\u001B[39;00m \u001B[38;5;28;01mimport\u001B[39;00m Any, Dict, List, Optional\n\u001B[1;32m----> 5\u001B[0m \u001B[38;5;28;01mfrom\u001B[39;00m \u001B[38;5;21;01mpydantic\u001B[39;00m \u001B[38;5;28;01mimport\u001B[39;00m BaseModel, BaseSettings, Field\n\u001B[0;32m      8\u001B[0m \u001B[38;5;28;01mdef\u001B[39;00m \u001B[38;5;21m_merge_dictionaries\u001B[39m(dict1: \u001B[38;5;28mdict\u001B[39m, dict2: \u001B[38;5;28mdict\u001B[39m) \u001B[38;5;241m-\u001B[39m\u001B[38;5;241m>\u001B[39m \u001B[38;5;28mdict\u001B[39m:\n\u001B[0;32m      9\u001B[0m \u001B[38;5;250m    \u001B[39m\u001B[38;5;124;03m\"\"\"\u001B[39;00m\n\u001B[0;32m     10\u001B[0m \u001B[38;5;124;03m    Recursive merge dictionaries.\u001B[39;00m\n\u001B[0;32m     11\u001B[0m \n\u001B[1;32m   (...)\u001B[0m\n\u001B[0;32m     14\u001B[0m \u001B[38;5;124;03m    :return: Merged dictionary\u001B[39;00m\n\u001B[0;32m     15\u001B[0m \u001B[38;5;124;03m    \"\"\"\u001B[39;00m\n",
      "File \u001B[1;32m~\\AppData\\Local\\Programs\\Python\\Python312\\Lib\\site-packages\\pydantic\\__init__.py:426\u001B[0m, in \u001B[0;36m__getattr__\u001B[1;34m(attr_name)\u001B[0m\n\u001B[0;32m    424\u001B[0m dynamic_attr \u001B[38;5;241m=\u001B[39m _dynamic_imports\u001B[38;5;241m.\u001B[39mget(attr_name)\n\u001B[0;32m    425\u001B[0m \u001B[38;5;28;01mif\u001B[39;00m dynamic_attr \u001B[38;5;129;01mis\u001B[39;00m \u001B[38;5;28;01mNone\u001B[39;00m:\n\u001B[1;32m--> 426\u001B[0m     \u001B[38;5;28;01mreturn\u001B[39;00m \u001B[43m_getattr_migration\u001B[49m\u001B[43m(\u001B[49m\u001B[43mattr_name\u001B[49m\u001B[43m)\u001B[49m\n\u001B[0;32m    428\u001B[0m package, module_name \u001B[38;5;241m=\u001B[39m dynamic_attr\n\u001B[0;32m    430\u001B[0m \u001B[38;5;28;01mif\u001B[39;00m module_name \u001B[38;5;241m==\u001B[39m \u001B[38;5;124m'\u001B[39m\u001B[38;5;124m__module__\u001B[39m\u001B[38;5;124m'\u001B[39m:\n",
      "File \u001B[1;32m~\\AppData\\Local\\Programs\\Python\\Python312\\Lib\\site-packages\\pydantic\\_migration.py:296\u001B[0m, in \u001B[0;36mgetattr_migration.<locals>.wrapper\u001B[1;34m(name)\u001B[0m\n\u001B[0;32m    294\u001B[0m     \u001B[38;5;28;01mreturn\u001B[39;00m import_string(REDIRECT_TO_V1[import_path])\n\u001B[0;32m    295\u001B[0m \u001B[38;5;28;01mif\u001B[39;00m import_path \u001B[38;5;241m==\u001B[39m \u001B[38;5;124m'\u001B[39m\u001B[38;5;124mpydantic:BaseSettings\u001B[39m\u001B[38;5;124m'\u001B[39m:\n\u001B[1;32m--> 296\u001B[0m     \u001B[38;5;28;01mraise\u001B[39;00m PydanticImportError(\n\u001B[0;32m    297\u001B[0m         \u001B[38;5;124m'\u001B[39m\u001B[38;5;124m`BaseSettings` has been moved to the `pydantic-settings` package. \u001B[39m\u001B[38;5;124m'\u001B[39m\n\u001B[0;32m    298\u001B[0m         \u001B[38;5;124mf\u001B[39m\u001B[38;5;124m'\u001B[39m\u001B[38;5;124mSee https://docs.pydantic.dev/\u001B[39m\u001B[38;5;132;01m{\u001B[39;00mversion_short()\u001B[38;5;132;01m}\u001B[39;00m\u001B[38;5;124m/migration/#basesettings-has-moved-to-pydantic-settings \u001B[39m\u001B[38;5;124m'\u001B[39m\n\u001B[0;32m    299\u001B[0m         \u001B[38;5;124m'\u001B[39m\u001B[38;5;124mfor more details.\u001B[39m\u001B[38;5;124m'\u001B[39m\n\u001B[0;32m    300\u001B[0m     )\n\u001B[0;32m    301\u001B[0m \u001B[38;5;28;01mif\u001B[39;00m import_path \u001B[38;5;129;01min\u001B[39;00m REMOVED_IN_V2:\n\u001B[0;32m    302\u001B[0m     \u001B[38;5;28;01mraise\u001B[39;00m PydanticImportError(\u001B[38;5;124mf\u001B[39m\u001B[38;5;124m'\u001B[39m\u001B[38;5;124m`\u001B[39m\u001B[38;5;132;01m{\u001B[39;00mimport_path\u001B[38;5;132;01m}\u001B[39;00m\u001B[38;5;124m` has been removed in V2.\u001B[39m\u001B[38;5;124m'\u001B[39m)\n",
      "\u001B[1;31mPydanticImportError\u001B[0m: `BaseSettings` has been moved to the `pydantic-settings` package. See https://docs.pydantic.dev/2.11/migration/#basesettings-has-moved-to-pydantic-settings for more details.\n\nFor further information visit https://errors.pydantic.dev/2.11/u/import-error"
     ]
    }
   ],
   "execution_count": 11
  }
 ],
 "metadata": {
  "kernelspec": {
   "display_name": "Python 3",
   "language": "python",
   "name": "python3"
  },
  "language_info": {
   "codemirror_mode": {
    "name": "ipython",
    "version": 2
   },
   "file_extension": ".py",
   "mimetype": "text/x-python",
   "name": "python",
   "nbconvert_exporter": "python",
   "pygments_lexer": "ipython2",
   "version": "2.7.6"
  }
 },
 "nbformat": 4,
 "nbformat_minor": 5
}
