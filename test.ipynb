{
 "cells": [
  {
   "metadata": {
    "ExecuteTime": {
     "end_time": "2025-04-18T07:59:03.619033Z",
     "start_time": "2025-04-18T07:59:03.309021Z"
    }
   },
   "cell_type": "code",
   "source": [
    "import numpy as np\n",
    "from sklearn.compose import make_column_transformer\n",
    "from sklearn.impute import SimpleImputer\n",
    "from sklearn.pipeline import make_pipeline\n",
    "import pandas as pd\n",
    "from sklearn.preprocessing import OneHotEncoder"
   ],
   "id": "e99dcc505ce56a63",
   "outputs": [],
   "execution_count": 23
  },
  {
   "metadata": {
    "ExecuteTime": {
     "end_time": "2025-04-18T08:02:00.510795Z",
     "start_time": "2025-04-18T08:02:00.492718Z"
    }
   },
   "cell_type": "code",
   "source": "df = pd.read_csv('train.csv')",
   "id": "c271a7a2af06d949",
   "outputs": [],
   "execution_count": 33
  },
  {
   "metadata": {
    "ExecuteTime": {
     "end_time": "2025-04-18T08:02:02.647409Z",
     "start_time": "2025-04-18T08:02:02.622338Z"
    }
   },
   "cell_type": "code",
   "source": [
    "df.drop(['PassengerId', 'Survived', 'Pclass', 'Name', 'Age', 'SibSp',\n",
    "       'Parch', 'Ticket', 'Fare', 'Cabin'], axis = 1, inplace = True)"
   ],
   "id": "8116dbd12d8bfae1",
   "outputs": [],
   "execution_count": 34
  },
  {
   "metadata": {
    "ExecuteTime": {
     "end_time": "2025-04-18T08:02:04.704626Z",
     "start_time": "2025-04-18T08:02:04.695498Z"
    }
   },
   "cell_type": "code",
   "source": "df.columns",
   "id": "b603ec401f36bf96",
   "outputs": [
    {
     "data": {
      "text/plain": [
       "Index(['Sex', 'Embarked'], dtype='object')"
      ]
     },
     "execution_count": 35,
     "metadata": {},
     "output_type": "execute_result"
    }
   ],
   "execution_count": 35
  },
  {
   "metadata": {
    "ExecuteTime": {
     "end_time": "2025-04-18T08:02:08.232891Z",
     "start_time": "2025-04-18T08:02:08.210786Z"
    }
   },
   "cell_type": "code",
   "source": "df.head()",
   "id": "508f166ac84d6e2e",
   "outputs": [
    {
     "data": {
      "text/plain": [
       "      Sex Embarked\n",
       "0    male        S\n",
       "1  female        C\n",
       "2  female        S\n",
       "3  female        S\n",
       "4    male        S"
      ],
      "text/html": [
       "<div>\n",
       "<style scoped>\n",
       "    .dataframe tbody tr th:only-of-type {\n",
       "        vertical-align: middle;\n",
       "    }\n",
       "\n",
       "    .dataframe tbody tr th {\n",
       "        vertical-align: top;\n",
       "    }\n",
       "\n",
       "    .dataframe thead th {\n",
       "        text-align: right;\n",
       "    }\n",
       "</style>\n",
       "<table border=\"1\" class=\"dataframe\">\n",
       "  <thead>\n",
       "    <tr style=\"text-align: right;\">\n",
       "      <th></th>\n",
       "      <th>Sex</th>\n",
       "      <th>Embarked</th>\n",
       "    </tr>\n",
       "  </thead>\n",
       "  <tbody>\n",
       "    <tr>\n",
       "      <th>0</th>\n",
       "      <td>male</td>\n",
       "      <td>S</td>\n",
       "    </tr>\n",
       "    <tr>\n",
       "      <th>1</th>\n",
       "      <td>female</td>\n",
       "      <td>C</td>\n",
       "    </tr>\n",
       "    <tr>\n",
       "      <th>2</th>\n",
       "      <td>female</td>\n",
       "      <td>S</td>\n",
       "    </tr>\n",
       "    <tr>\n",
       "      <th>3</th>\n",
       "      <td>female</td>\n",
       "      <td>S</td>\n",
       "    </tr>\n",
       "    <tr>\n",
       "      <th>4</th>\n",
       "      <td>male</td>\n",
       "      <td>S</td>\n",
       "    </tr>\n",
       "  </tbody>\n",
       "</table>\n",
       "</div>"
      ]
     },
     "execution_count": 36,
     "metadata": {},
     "output_type": "execute_result"
    }
   ],
   "execution_count": 36
  },
  {
   "metadata": {
    "ExecuteTime": {
     "end_time": "2025-04-18T08:06:18.208647Z",
     "start_time": "2025-04-18T08:06:18.199012Z"
    }
   },
   "cell_type": "code",
   "source": [
    "t0 = make_column_transformer(\n",
    "       (SimpleImputer(strategy='most_frequent'), [1]),\n",
    "    remainder='passthrough'\n",
    ")"
   ],
   "id": "209631e8496b171e",
   "outputs": [],
   "execution_count": 44
  },
  {
   "metadata": {
    "ExecuteTime": {
     "end_time": "2025-04-18T08:06:22.527210Z",
     "start_time": "2025-04-18T08:06:22.498999Z"
    }
   },
   "cell_type": "code",
   "source": "df = t0.fit_transform(df)",
   "id": "bf97aa7083eb4879",
   "outputs": [],
   "execution_count": 45
  },
  {
   "metadata": {
    "ExecuteTime": {
     "end_time": "2025-04-18T08:02:37.692593Z",
     "start_time": "2025-04-18T08:02:37.664387Z"
    }
   },
   "cell_type": "code",
   "source": "df",
   "id": "b97e47dd7ad03689",
   "outputs": [
    {
     "data": {
      "text/plain": [
       "        Sex Embarked\n",
       "0      male        S\n",
       "1    female        C\n",
       "2    female        S\n",
       "3    female        S\n",
       "4      male        S\n",
       "..      ...      ...\n",
       "886    male        S\n",
       "887  female        S\n",
       "888  female        S\n",
       "889    male        C\n",
       "890    male        Q\n",
       "\n",
       "[891 rows x 2 columns]"
      ],
      "text/html": [
       "<div>\n",
       "<style scoped>\n",
       "    .dataframe tbody tr th:only-of-type {\n",
       "        vertical-align: middle;\n",
       "    }\n",
       "\n",
       "    .dataframe tbody tr th {\n",
       "        vertical-align: top;\n",
       "    }\n",
       "\n",
       "    .dataframe thead th {\n",
       "        text-align: right;\n",
       "    }\n",
       "</style>\n",
       "<table border=\"1\" class=\"dataframe\">\n",
       "  <thead>\n",
       "    <tr style=\"text-align: right;\">\n",
       "      <th></th>\n",
       "      <th>Sex</th>\n",
       "      <th>Embarked</th>\n",
       "    </tr>\n",
       "  </thead>\n",
       "  <tbody>\n",
       "    <tr>\n",
       "      <th>0</th>\n",
       "      <td>male</td>\n",
       "      <td>S</td>\n",
       "    </tr>\n",
       "    <tr>\n",
       "      <th>1</th>\n",
       "      <td>female</td>\n",
       "      <td>C</td>\n",
       "    </tr>\n",
       "    <tr>\n",
       "      <th>2</th>\n",
       "      <td>female</td>\n",
       "      <td>S</td>\n",
       "    </tr>\n",
       "    <tr>\n",
       "      <th>3</th>\n",
       "      <td>female</td>\n",
       "      <td>S</td>\n",
       "    </tr>\n",
       "    <tr>\n",
       "      <th>4</th>\n",
       "      <td>male</td>\n",
       "      <td>S</td>\n",
       "    </tr>\n",
       "    <tr>\n",
       "      <th>...</th>\n",
       "      <td>...</td>\n",
       "      <td>...</td>\n",
       "    </tr>\n",
       "    <tr>\n",
       "      <th>886</th>\n",
       "      <td>male</td>\n",
       "      <td>S</td>\n",
       "    </tr>\n",
       "    <tr>\n",
       "      <th>887</th>\n",
       "      <td>female</td>\n",
       "      <td>S</td>\n",
       "    </tr>\n",
       "    <tr>\n",
       "      <th>888</th>\n",
       "      <td>female</td>\n",
       "      <td>S</td>\n",
       "    </tr>\n",
       "    <tr>\n",
       "      <th>889</th>\n",
       "      <td>male</td>\n",
       "      <td>C</td>\n",
       "    </tr>\n",
       "    <tr>\n",
       "      <th>890</th>\n",
       "      <td>male</td>\n",
       "      <td>Q</td>\n",
       "    </tr>\n",
       "  </tbody>\n",
       "</table>\n",
       "<p>891 rows × 2 columns</p>\n",
       "</div>"
      ]
     },
     "execution_count": 38,
     "metadata": {},
     "output_type": "execute_result"
    }
   ],
   "execution_count": 38
  },
  {
   "metadata": {
    "ExecuteTime": {
     "end_time": "2025-04-18T08:06:27.186927Z",
     "start_time": "2025-04-18T08:06:27.180178Z"
    }
   },
   "cell_type": "code",
   "source": [
    "t1 = make_column_transformer(\n",
    "       (OneHotEncoder(handle_unknown='ignore', drop='first'), [0, 1])\n",
    ", remainder='passthrough')"
   ],
   "id": "f256f0985b909a3",
   "outputs": [],
   "execution_count": 46
  },
  {
   "metadata": {
    "ExecuteTime": {
     "end_time": "2025-04-18T08:06:29.549856Z",
     "start_time": "2025-04-18T08:06:29.529345Z"
    }
   },
   "cell_type": "code",
   "source": "t1.fit_transform(df)",
   "id": "f973ab9a85a6156f",
   "outputs": [
    {
     "data": {
      "text/plain": [
       "array([[0., 1., 1.],\n",
       "       [0., 0., 0.],\n",
       "       [0., 1., 0.],\n",
       "       ...,\n",
       "       [0., 1., 0.],\n",
       "       [0., 0., 1.],\n",
       "       [1., 0., 1.]])"
      ]
     },
     "execution_count": 47,
     "metadata": {},
     "output_type": "execute_result"
    }
   ],
   "execution_count": 47
  },
  {
   "metadata": {
    "ExecuteTime": {
     "end_time": "2025-04-18T08:05:02.422097Z",
     "start_time": "2025-04-18T08:05:02.404350Z"
    }
   },
   "cell_type": "code",
   "source": [
    "pipe = make_pipeline(\n",
    "       (t0),\n",
    "       (t1)\n",
    ")"
   ],
   "id": "66a93ad0b30cafc6",
   "outputs": [],
   "execution_count": 42
  },
  {
   "metadata": {
    "ExecuteTime": {
     "end_time": "2025-04-18T08:05:23.397463Z",
     "start_time": "2025-04-18T08:05:23.354240Z"
    }
   },
   "cell_type": "code",
   "source": "pipe.fit_transform(df)",
   "id": "66c6d866c8a6a917",
   "outputs": [
    {
     "data": {
      "text/plain": [
       "array([[0., 1., 1.],\n",
       "       [0., 0., 0.],\n",
       "       [0., 1., 0.],\n",
       "       ...,\n",
       "       [0., 1., 0.],\n",
       "       [0., 0., 1.],\n",
       "       [1., 0., 1.]])"
      ]
     },
     "execution_count": 43,
     "metadata": {},
     "output_type": "execute_result"
    }
   ],
   "execution_count": 43
  }
 ],
 "metadata": {
  "kernelspec": {
   "display_name": "Python 3",
   "language": "python",
   "name": "python3"
  },
  "language_info": {
   "codemirror_mode": {
    "name": "ipython",
    "version": 2
   },
   "file_extension": ".py",
   "mimetype": "text/x-python",
   "name": "python",
   "nbconvert_exporter": "python",
   "pygments_lexer": "ipython2",
   "version": "2.7.6"
  }
 },
 "nbformat": 4,
 "nbformat_minor": 5
}
